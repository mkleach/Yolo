
yolotest.ipynb
yolotest.ipynb_
Tutorial from https://pjreddie.com/darknet/yolo/

[ ]
ls

[ ]
!git clone https://github.com/pjreddie/darknet

[ ]
cd darknet

[ ]
ls

[ ]
!make

[ ]
!wget https://pjreddie.com/media/files/yolov3.weights

[ ]
!./darknet detect cfg/yolov3.cfg yolov3.weights data/dog.jpg

[ ]
ls
[ ]
from IPython.display import Image
Image('predictions.jpg')
[ ]
​
Laying out notebook...
